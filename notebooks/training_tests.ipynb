{
 "cells": [
  {
   "cell_type": "code",
   "execution_count": 32,
   "metadata": {},
   "outputs": [],
   "source": [
    "import params\n",
    "import pandas as pd\n",
    "import numpy as np\n",
    "import training\n",
    "import matplotlib.pyplot as plt\n",
    "from sklearn.metrics import plot_confusion_matrix\n",
    "from matplotlib.pyplot import figure"
   ]
  },
  {
   "cell_type": "code",
   "execution_count": 2,
   "metadata": {},
   "outputs": [],
   "source": [
    "df = pd.read_pickle(params.PICKLE_DATASET_WITH_FEATURES_PATH)"
   ]
  },
  {
   "cell_type": "code",
   "execution_count": 3,
   "metadata": {},
   "outputs": [
    {
     "name": "stdout",
     "output_type": "stream",
     "text": [
      "<class 'pandas.core.frame.DataFrame'>\n",
      "RangeIndex: 13676 entries, 0 to 13675\n",
      "Columns: 120 entries, log_attack_time to drum_type\n",
      "dtypes: float64(119), object(1)\n",
      "memory usage: 12.5+ MB\n"
     ]
    }
   ],
   "source": [
    "df.info()"
   ]
  },
  {
   "cell_type": "code",
   "execution_count": 4,
   "metadata": {},
   "outputs": [
    {
     "name": "stdout",
     "output_type": "stream",
     "text": [
      "<class 'pandas.core.frame.DataFrame'>\n",
      "Int64Index: 3550 entries, 46 to 13655\n",
      "Columns: 120 entries, log_attack_time to drum_type\n",
      "dtypes: float64(119), object(1)\n",
      "memory usage: 3.3+ MB\n"
     ]
    }
   ],
   "source": [
    "(df[df['drum_type'] == 'kick']).info()"
   ]
  },
  {
   "cell_type": "code",
   "execution_count": 5,
   "metadata": {},
   "outputs": [
    {
     "name": "stdout",
     "output_type": "stream",
     "text": [
      "<class 'pandas.core.frame.DataFrame'>\n",
      "Int64Index: 4460 entries, 23 to 13650\n",
      "Columns: 120 entries, log_attack_time to drum_type\n",
      "dtypes: float64(119), object(1)\n",
      "memory usage: 4.1+ MB\n"
     ]
    }
   ],
   "source": [
    "(df[df['drum_type'] == 'snare']).info()"
   ]
  },
  {
   "cell_type": "code",
   "execution_count": 6,
   "metadata": {},
   "outputs": [
    {
     "name": "stdout",
     "output_type": "stream",
     "text": [
      "<class 'pandas.core.frame.DataFrame'>\n",
      "Int64Index: 4916 entries, 0 to 13675\n",
      "Columns: 120 entries, log_attack_time to drum_type\n",
      "dtypes: float64(119), object(1)\n",
      "memory usage: 4.5+ MB\n"
     ]
    }
   ],
   "source": [
    "(df[df['drum_type'] == 'hat']).info()"
   ]
  },
  {
   "cell_type": "code",
   "execution_count": 7,
   "metadata": {},
   "outputs": [
    {
     "name": "stdout",
     "output_type": "stream",
     "text": [
      "<class 'pandas.core.frame.DataFrame'>\n",
      "Int64Index: 750 entries, 12 to 13651\n",
      "Columns: 120 entries, log_attack_time to drum_type\n",
      "dtypes: float64(119), object(1)\n",
      "memory usage: 709.0+ KB\n"
     ]
    }
   ],
   "source": [
    "(df[df['drum_type'] == 'tom']).info()"
   ]
  },
  {
   "cell_type": "code",
   "execution_count": 9,
   "metadata": {},
   "outputs": [
    {
     "name": "stderr",
     "output_type": "stream",
     "text": [
      "INFO:training:Model output can be decoded with the following order of drum types: ['hat', 'tom', 'snare', 'kick']\n",
      "INFO:training:None\n",
      "INFO:training:7312 training sounds, 2438 validation sounds\n"
     ]
    },
    {
     "name": "stdout",
     "output_type": "stream",
     "text": [
      "<class 'pandas.core.frame.DataFrame'>\n",
      "Int64Index: 9750 entries, 0 to 13651\n",
      "Columns: 121 entries, log_attack_time to drum_type_labels\n",
      "dtypes: float64(119), int64(1), object(1)\n",
      "memory usage: 9.1+ MB\n"
     ]
    }
   ],
   "source": [
    "train_X, train_Y, test_X, test_Y, labels = training.split_data(df)"
   ]
  },
  {
   "cell_type": "code",
   "execution_count": 13,
   "metadata": {},
   "outputs": [
    {
     "name": "stderr",
     "output_type": "stream",
     "text": [
      "INFO:training:random_forest:\n",
      "INFO:training:              precision    recall  f1-score   support\n",
      "\n",
      "         hat       0.93      0.93      0.93       749\n",
      "         tom       0.83      0.66      0.74       174\n",
      "       snare       0.92      0.95      0.94       774\n",
      "        kick       0.94      0.96      0.95       741\n",
      "\n",
      "    accuracy                           0.93      2438\n",
      "   macro avg       0.91      0.87      0.89      2438\n",
      "weighted avg       0.92      0.93      0.92      2438\n",
      "\n"
     ]
    }
   ],
   "source": [
    "model = training.train(\"random_forest\", train_X, train_Y, test_X, test_Y, labels)"
   ]
  },
  {
   "cell_type": "code",
   "execution_count": 21,
   "metadata": {},
   "outputs": [
    {
     "name": "stdout",
     "output_type": "stream",
     "text": [
      "['hat', 'tom', 'snare', 'kick']\n"
     ]
    }
   ],
   "source": [
    "print(labels)"
   ]
  },
  {
   "cell_type": "code",
   "execution_count": 35,
   "metadata": {},
   "outputs": [
    {
     "data": {
      "image/png": "[encoded data removed]",
      "text/plain": [
       "<Figure size 432x288 with 2 Axes>"
      ]
     },
     "metadata": {
      "needs_background": "light"
     },
     "output_type": "display_data"
    },
    {
     "data": {
      "text/plain": [
       "<Figure size 360x360 with 0 Axes>"
      ]
     },
     "metadata": {},
     "output_type": "display_data"
    }
   ],
   "source": [
    "plot_confusion_matrix(model, test_X, test_Y, display_labels=labels, normalize='true')\n",
    "plt.figure(figsize=(5, 5))\n",
    "plt.show()"
   ]
  },
  {
   "cell_type": "code",
   "execution_count": 30,
   "metadata": {},
   "outputs": [
    {
     "name": "stdout",
     "output_type": "stream",
     "text": [
      "Feature ranking:\n",
      "1. feature 43 (0.069527)\n",
      "2. feature 16 (0.057500)\n",
      "3. feature 41 (0.051401)\n",
      "4. feature 21 (0.048972)\n",
      "5. feature 15 (0.039611)\n",
      "6. feature 42 (0.033000)\n",
      "7. feature 46 (0.030844)\n",
      "8. feature 20 (0.029000)\n",
      "9. feature 19 (0.026352)\n",
      "10. feature 51 (0.025959)\n",
      "11. feature 47 (0.025090)\n",
      "12. feature 36 (0.023825)\n",
      "13. feature 17 (0.022745)\n",
      "14. feature 52 (0.021736)\n",
      "15. feature 24 (0.020353)\n",
      "16. feature 49 (0.020069)\n",
      "17. feature 113 (0.019644)\n",
      "18. feature 35 (0.018098)\n",
      "19. feature 101 (0.016359)\n",
      "20. feature 115 (0.015377)\n",
      "21. feature 22 (0.011120)\n",
      "22. feature 50 (0.010087)\n",
      "23. feature 107 (0.009789)\n",
      "24. feature 89 (0.009787)\n",
      "25. feature 109 (0.009014)\n",
      "26. feature 23 (0.008601)\n",
      "27. feature 44 (0.008434)\n",
      "28. feature 48 (0.008175)\n",
      "29. feature 117 (0.007963)\n",
      "30. feature 58 (0.007843)\n",
      "31. feature 55 (0.007372)\n",
      "32. feature 39 (0.007154)\n",
      "33. feature 27 (0.006765)\n",
      "34. feature 105 (0.006568)\n",
      "35. feature 10 (0.006563)\n",
      "36. feature 37 (0.006100)\n",
      "37. feature 103 (0.005917)\n",
      "38. feature 18 (0.005593)\n",
      "39. feature 57 (0.005376)\n",
      "40. feature 2 (0.005351)\n",
      "41. feature 40 (0.005271)\n",
      "42. feature 95 (0.004676)\n",
      "43. feature 9 (0.004572)\n",
      "44. feature 0 (0.004512)\n",
      "45. feature 38 (0.004413)\n",
      "46. feature 91 (0.004403)\n",
      "47. feature 12 (0.004400)\n",
      "48. feature 30 (0.004354)\n",
      "49. feature 31 (0.004325)\n",
      "50. feature 25 (0.004302)\n",
      "51. feature 13 (0.004301)\n",
      "52. feature 77 (0.004253)\n",
      "53. feature 53 (0.004195)\n",
      "54. feature 33 (0.004044)\n",
      "55. feature 28 (0.003950)\n",
      "56. feature 1 (0.003862)\n",
      "57. feature 11 (0.003817)\n",
      "58. feature 116 (0.003579)\n",
      "59. feature 68 (0.003575)\n",
      "60. feature 83 (0.003571)\n",
      "61. feature 114 (0.003527)\n",
      "62. feature 26 (0.003526)\n",
      "63. feature 54 (0.003520)\n",
      "64. feature 34 (0.003465)\n",
      "65. feature 90 (0.003304)\n",
      "66. feature 96 (0.003268)\n",
      "67. feature 65 (0.003200)\n",
      "68. feature 110 (0.003186)\n",
      "69. feature 45 (0.003154)\n",
      "70. feature 32 (0.003141)\n",
      "71. feature 86 (0.003075)\n",
      "72. feature 97 (0.003069)\n",
      "73. feature 99 (0.003033)\n",
      "74. feature 93 (0.002989)\n",
      "75. feature 7 (0.002965)\n",
      "76. feature 80 (0.002915)\n",
      "77. feature 64 (0.002895)\n",
      "78. feature 104 (0.002788)\n",
      "79. feature 6 (0.002774)\n",
      "80. feature 76 (0.002646)\n",
      "81. feature 108 (0.002596)\n",
      "82. feature 111 (0.002596)\n",
      "83. feature 74 (0.002590)\n",
      "84. feature 81 (0.002568)\n",
      "85. feature 66 (0.002537)\n",
      "86. feature 102 (0.002535)\n",
      "87. feature 78 (0.002427)\n",
      "88. feature 85 (0.002425)\n",
      "89. feature 72 (0.002418)\n",
      "90. feature 5 (0.002417)\n",
      "91. feature 98 (0.002400)\n",
      "92. feature 92 (0.002397)\n",
      "93. feature 88 (0.002381)\n",
      "94. feature 69 (0.002358)\n",
      "95. feature 71 (0.002351)\n",
      "96. feature 79 (0.002321)\n",
      "97. feature 60 (0.002310)\n",
      "98. feature 70 (0.002302)\n",
      "99. feature 84 (0.002278)\n",
      "100. feature 94 (0.002234)\n",
      "101. feature 4 (0.002204)\n",
      "102. feature 3 (0.002160)\n",
      "103. feature 87 (0.002150)\n",
      "104. feature 59 (0.002140)\n",
      "105. feature 75 (0.002017)\n",
      "106. feature 82 (0.002017)\n",
      "107. feature 56 (0.001964)\n",
      "108. feature 73 (0.001959)\n",
      "109. feature 100 (0.001894)\n",
      "110. feature 63 (0.001886)\n",
      "111. feature 8 (0.001870)\n",
      "112. feature 62 (0.001851)\n",
      "113. feature 61 (0.001841)\n",
      "114. feature 118 (0.001788)\n",
      "115. feature 112 (0.001780)\n",
      "116. feature 106 (0.001666)\n",
      "117. feature 14 (0.001514)\n",
      "118. feature 29 (0.001511)\n",
      "119. feature 67 (0.001497)\n"
     ]
    },
    {
     "data": {
      "image/png": "[encoded data removed]",
      "text/plain": [
       "<Figure size 432x288 with 1 Axes>"
      ]
     },
     "metadata": {
      "needs_background": "light"
     },
     "output_type": "display_data"
    }
   ],
   "source": [
    "importances = model.feature_importances_\n",
    "std = np.std([tree.feature_importances_ for tree in model.estimators_],\n",
    "             axis=0)\n",
    "indices = np.argsort(importances)[::-1]\n",
    "\n",
    "# Print the feature ranking\n",
    "print(\"Feature ranking:\")\n",
    "\n",
    "for f in range(test_X.shape[1]):\n",
    "    print(\"%d. feature %d (%f)\" % (f + 1, indices[f], importances[indices[f]]))\n",
    "\n",
    "# Plot the impurity-based feature importances of the forest\n",
    "plt.figure()\n",
    "plt.title(\"Feature importances\")\n",
    "plt.bar(range(test_X.shape[1]), importances[indices],\n",
    "        color=\"r\", yerr=std[indices], align=\"center\")\n",
    "plt.xticks(range(test_X.shape[1]), indices)\n",
    "plt.xlim([-1, test_X.shape[1]])\n",
    "plt.show()"
   ]
  },
  {
   "cell_type": "code",
   "execution_count": null,
   "metadata": {},
   "outputs": [],
   "source": []
  }
 ],
 "metadata": {
  "kernelspec": {
   "display_name": "Python 3",
   "language": "python",
   "name": "python3"
  },
  "language_info": {
   "codemirror_mode": {
    "name": "ipython",
    "version": 3
   },
   "file_extension": ".py",
   "mimetype": "text/x-python",
   "name": "python",
   "nbconvert_exporter": "python",
   "pygments_lexer": "ipython3",
   "version": "3.8.2"
  }
 },
 "nbformat": 4,
 "nbformat_minor": 1
}
