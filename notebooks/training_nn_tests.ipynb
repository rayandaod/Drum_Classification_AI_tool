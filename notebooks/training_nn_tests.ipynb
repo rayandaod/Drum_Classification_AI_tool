{
 "cells": [
  {
   "cell_type": "code",
   "execution_count": 1,
   "metadata": {},
   "outputs": [],
   "source": [
    "import json\n",
    "import os\n",
    "import time\n",
    "from config import TrainingConfig, PathConfig"
   ]
  },
  {
   "cell_type": "code",
   "execution_count": 2,
   "metadata": {},
   "outputs": [],
   "source": [
    "model_folder = time.strftime(\"%Y%m%d-%H%M%S\")\n",
    "folder_path = PathConfig.MODELS_PATH / model_folder\n",
    "os.makedirs(folder_path)\n",
    "NNtraining_config_instance = TrainingConfig.NNTrainingConfig()\n",
    "metadata = {\n",
    "        \"model_type\": \"FNN\",\n",
    "        \"n_samples_per_class\": str(TrainingConfig.N_SAMPLES_PER_CLASS),\n",
    "        \"parameters\": json.dumps(NNtraining_config_instance.__dict__)\n",
    "    }\n",
    "with open(folder_path / PathConfig.METADATA_JSON_FILENAME, 'w') as outfile:\n",
    "    json.dump(metadata, outfile)"
   ]
  },
  {
   "cell_type": "code",
   "execution_count": null,
   "metadata": {},
   "outputs": [],
   "source": []
  }
 ],
 "metadata": {
  "kernelspec": {
   "display_name": "Python 3",
   "language": "python",
   "name": "python3"
  },
  "language_info": {
   "codemirror_mode": {
    "name": "ipython",
    "version": 3
   },
   "file_extension": ".py",
   "mimetype": "text/x-python",
   "name": "python",
   "nbconvert_exporter": "python",
   "pygments_lexer": "ipython3",
   "version": "3.8.2"
  }
 },
 "nbformat": 4,
 "nbformat_minor": 1
}
