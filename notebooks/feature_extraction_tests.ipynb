{
 "cells": [
  {
   "cell_type": "code",
   "execution_count": 3,
   "metadata": {
    "pycharm": {
     "is_executing": true
    }
   },
   "outputs": [],
   "source": [
    "import pickle\n",
    "import pandas as pd\n",
    "import matplotlib.pyplot as plt\n",
    "import math\n",
    "import numpy as np\n",
    "import librosa\n",
    "from sklearn.linear_model import LinearRegression\n",
    "from sklearn.svm import SVC\n",
    "from sklearn.ensemble import RandomForestClassifier, GradientBoostingClassifier\n",
    "from sklearn.neighbors import KNeighborsClassifier\n",
    "from sklearn.metrics import classification_report\n",
    "from sklearn.model_selection import train_test_split\n",
    "from sklearn import preprocessing\n",
    "from sklearn.experimental import enable_iterative_imputer\n",
    "from sklearn.impute import IterativeImputer"
   ]
  },
  {
   "cell_type": "code",
   "execution_count": 5,
   "metadata": {
    "pycharm": {
     "is_executing": true
    }
   },
   "outputs": [],
   "source": [
    "from data_to_features import feature_engineering\n",
    "from config import *"
   ]
  },
  {
   "cell_type": "code",
   "execution_count": 19,
   "metadata": {
    "pycharm": {
     "is_executing": true
    }
   },
   "outputs": [
    {
     "name": "stdout",
     "output_type": "stream",
     "text": [
      "<class 'pandas.core.frame.DataFrame'>\n",
      "Int64Index: 47 entries, 0 to 47\n",
      "Data columns (total 7 columns):\n",
      " #   Column         Non-Null Count  Dtype  \n",
      "---  ------         --------------  -----  \n",
      " 0   audio_path     47 non-null     object \n",
      " 1   file_stem      47 non-null     object \n",
      " 2   class          47 non-null     object \n",
      " 3   start_time     47 non-null     float64\n",
      " 4   end_time       3 non-null      float64\n",
      " 5   orig_duration  47 non-null     float64\n",
      " 6   new_duration   47 non-null     float64\n",
      "dtypes: float64(4), object(3)\n",
      "memory usage: 2.9+ KB\n"
     ]
    }
   ],
   "source": [
    "dataset_folder = '20210514-162902'\n",
    "drums_df = pd.read_pickle(PICKLE_DATASETS_PATH / dataset_folder / DATASET_FILENAME)\n",
    "drums_df.info()"
   ]
  },
  {
   "cell_type": "code",
   "execution_count": 22,
   "metadata": {
    "pycharm": {
     "is_executing": true
    }
   },
   "outputs": [
    {
     "data": {
      "text/html": [
       "<div>\n",
       "<style scoped>\n",
       "    .dataframe tbody tr th:only-of-type {\n",
       "        vertical-align: middle;\n",
       "    }\n",
       "\n",
       "    .dataframe tbody tr th {\n",
       "        vertical-align: top;\n",
       "    }\n",
       "\n",
       "    .dataframe thead th {\n",
       "        text-align: right;\n",
       "    }\n",
       "</style>\n",
       "<table border=\"1\" class=\"dataframe\">\n",
       "  <thead>\n",
       "    <tr style=\"text-align: right;\">\n",
       "      <th></th>\n",
       "      <th>audio_path</th>\n",
       "      <th>file_stem</th>\n",
       "      <th>class</th>\n",
       "      <th>start_time</th>\n",
       "      <th>end_time</th>\n",
       "      <th>orig_duration</th>\n",
       "      <th>new_duration</th>\n",
       "    </tr>\n",
       "  </thead>\n",
       "  <tbody>\n",
       "    <tr>\n",
       "      <th>0</th>\n",
       "      <td>/Users/rayandaod/Documents/Prod/My_samples/Med...</td>\n",
       "      <td>mm_vocal_what_the_fuck_is_up_yo_01</td>\n",
       "      <td>hat</td>\n",
       "      <td>0.067551</td>\n",
       "      <td>0.177302</td>\n",
       "      <td>2.932698</td>\n",
       "      <td>0.109751</td>\n",
       "    </tr>\n",
       "    <tr>\n",
       "      <th>1</th>\n",
       "      <td>/Users/rayandaod/Documents/Prod/My_samples/Med...</td>\n",
       "      <td>mm_vocal_what_the_fuck_is_up_yo_02</td>\n",
       "      <td>hat</td>\n",
       "      <td>0.077528</td>\n",
       "      <td>0.112449</td>\n",
       "      <td>2.932698</td>\n",
       "      <td>0.034921</td>\n",
       "    </tr>\n",
       "    <tr>\n",
       "      <th>2</th>\n",
       "      <td>/Users/rayandaod/Documents/Prod/My_samples/Med...</td>\n",
       "      <td>mm_kick_sensible_02</td>\n",
       "      <td>kick</td>\n",
       "      <td>0.000000</td>\n",
       "      <td>NaN</td>\n",
       "      <td>0.764898</td>\n",
       "      <td>0.764898</td>\n",
       "    </tr>\n",
       "    <tr>\n",
       "      <th>3</th>\n",
       "      <td>/Users/rayandaod/Documents/Prod/My_samples/Med...</td>\n",
       "      <td>mm_kick_armageddon</td>\n",
       "      <td>kick</td>\n",
       "      <td>0.197256</td>\n",
       "      <td>NaN</td>\n",
       "      <td>0.918095</td>\n",
       "      <td>0.720839</td>\n",
       "    </tr>\n",
       "    <tr>\n",
       "      <th>4</th>\n",
       "      <td>/Users/rayandaod/Documents/Prod/My_samples/Med...</td>\n",
       "      <td>mm_kick_sensible_01</td>\n",
       "      <td>kick</td>\n",
       "      <td>0.000000</td>\n",
       "      <td>NaN</td>\n",
       "      <td>0.573016</td>\n",
       "      <td>0.573016</td>\n",
       "    </tr>\n",
       "  </tbody>\n",
       "</table>\n",
       "</div>"
      ],
      "text/plain": [
       "                                          audio_path  \\\n",
       "0  /Users/rayandaod/Documents/Prod/My_samples/Med...   \n",
       "1  /Users/rayandaod/Documents/Prod/My_samples/Med...   \n",
       "2  /Users/rayandaod/Documents/Prod/My_samples/Med...   \n",
       "3  /Users/rayandaod/Documents/Prod/My_samples/Med...   \n",
       "4  /Users/rayandaod/Documents/Prod/My_samples/Med...   \n",
       "\n",
       "                            file_stem class  start_time  end_time  \\\n",
       "0  mm_vocal_what_the_fuck_is_up_yo_01   hat    0.067551  0.177302   \n",
       "1  mm_vocal_what_the_fuck_is_up_yo_02   hat    0.077528  0.112449   \n",
       "2                 mm_kick_sensible_02  kick    0.000000       NaN   \n",
       "3                  mm_kick_armageddon  kick    0.197256       NaN   \n",
       "4                 mm_kick_sensible_01  kick    0.000000       NaN   \n",
       "\n",
       "   orig_duration  new_duration  \n",
       "0       2.932698      0.109751  \n",
       "1       2.932698      0.034921  \n",
       "2       0.764898      0.764898  \n",
       "3       0.918095      0.720839  \n",
       "4       0.573016      0.573016  "
      ]
     },
     "execution_count": 22,
     "metadata": {},
     "output_type": "execute_result"
    }
   ],
   "source": [
    "drums_df = feature_engineering.extract_all(drums_df, dataset_folder=dataset_folder)\n",
    "drums_df.head()"
   ]
  },
  {
   "cell_type": "code",
   "execution_count": null,
   "metadata": {
    "pycharm": {
     "is_executing": true
    }
   },
   "outputs": [],
   "source": [
    "df = df.assign(drum_type_labels=drum_type_labels)"
   ]
  },
  {
   "cell_type": "code",
   "execution_count": null,
   "metadata": {
    "pycharm": {
     "is_executing": true
    }
   },
   "outputs": [],
   "source": [
    "df.head()"
   ]
  },
  {
   "cell_type": "code",
   "execution_count": null,
   "metadata": {
    "pycharm": {
     "is_executing": true
    }
   },
   "outputs": [],
   "source": [
    "df.info()"
   ]
  },
  {
   "cell_type": "code",
   "execution_count": null,
   "metadata": {
    "pycharm": {
     "is_executing": true
    }
   },
   "outputs": [],
   "source": [
    "train_clips_df, val_clips_df = train_test_split(df, random_state=0)"
   ]
  },
  {
   "cell_type": "code",
   "execution_count": null,
   "metadata": {
    "pycharm": {
     "is_executing": true
    }
   },
   "outputs": [],
   "source": [
    "train_df = train_clips_df.drop(labels='drum_type_labels', axis=1)\n",
    "train_df = train_df.drop(labels='drum_type', axis=1)\n",
    "train_np = train_df.to_numpy()"
   ]
  },
  {
   "cell_type": "code",
   "execution_count": null,
   "metadata": {
    "pycharm": {
     "is_executing": true
    }
   },
   "outputs": [],
   "source": [
    "test_df = val_clips_df.drop(labels='drum_type_labels', axis=1)\n",
    "test_df = test_df.drop(labels='drum_type', axis=1)\n",
    "test_np = test_df.to_numpy()"
   ]
  },
  {
   "cell_type": "code",
   "execution_count": null,
   "metadata": {
    "pycharm": {
     "is_executing": true
    }
   },
   "outputs": [],
   "source": []
  },
  {
   "cell_type": "code",
   "execution_count": null,
   "metadata": {
    "pycharm": {
     "is_executing": true
    }
   },
   "outputs": [],
   "source": []
  }
 ],
 "metadata": {
  "kernelspec": {
   "display_name": "Python 3",
   "language": "python",
   "name": "python3"
  },
  "language_info": {
   "codemirror_mode": {
    "name": "ipython",
    "version": 3
   },
   "file_extension": ".py",
   "mimetype": "text/x-python",
   "name": "python",
   "nbconvert_exporter": "python",
   "pygments_lexer": "ipython3",
   "version": "3.8.2"
  }
 },
 "nbformat": 4,
 "nbformat_minor": 1
}
