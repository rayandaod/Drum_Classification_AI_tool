{
 "cells": [
  {
   "cell_type": "code",
   "execution_count": 27,
   "metadata": {},
   "outputs": [],
   "source": [
    "import pickle\n",
    "import pandas as pd\n",
    "import matplotlib.pyplot as plt\n",
    "import math\n",
    "import numpy as np\n",
    "import librosa\n",
    "from sklearn.linear_model import LinearRegression\n",
    "from sklearn.svm import SVC\n",
    "from sklearn.ensemble import RandomForestClassifier, GradientBoostingClassifier\n",
    "from sklearn.neighbors import KNeighborsClassifier\n",
    "from sklearn.metrics import classification_report\n",
    "from sklearn.model_selection import train_test_split\n",
    "from sklearn import preprocessing\n",
    "from sklearn.experimental import enable_iterative_imputer\n",
    "from sklearn.impute import IterativeImputer"
   ]
  },
  {
   "cell_type": "code",
   "execution_count": 2,
   "metadata": {},
   "outputs": [],
   "source": [
    "import feature_engineering\n",
    "import read_audio\n",
    "import params"
   ]
  },
  {
   "cell_type": "code",
   "execution_count": 20,
   "metadata": {},
   "outputs": [],
   "source": [
    "df = pd.read_pickle(params.PICKLE_DATASET_WITH_FEATURES_PATH)"
   ]
  },
  {
   "cell_type": "code",
   "execution_count": 21,
   "metadata": {},
   "outputs": [],
   "source": [
    "df = df.groupby('drum_type').head(params.N_SAMPLES_PER_CLASS)"
   ]
  },
  {
   "cell_type": "code",
   "execution_count": 22,
   "metadata": {},
   "outputs": [
    {
     "name": "stdout",
     "output_type": "stream",
     "text": [
      "<class 'pandas.core.frame.DataFrame'>\n",
      "Int64Index: 768 entries, 0 to 767\n",
      "Columns: 120 entries, log_attack_time to drum_type\n",
      "dtypes: float64(119), object(1)\n",
      "memory usage: 726.0+ KB\n"
     ]
    }
   ],
   "source": [
    "df.info()"
   ]
  },
  {
   "cell_type": "code",
   "execution_count": 23,
   "metadata": {},
   "outputs": [],
   "source": [
    "drum_type_labels, unique_labels = pd.factorize(df.drum_type)"
   ]
  },
  {
   "cell_type": "code",
   "execution_count": 41,
   "metadata": {},
   "outputs": [],
   "source": [
    "df = df.assign(drum_type_labels=drum_type_labels)"
   ]
  },
  {
   "cell_type": "code",
   "execution_count": 42,
   "metadata": {},
   "outputs": [
    {
     "data": {
      "text/html": [
       "<div>\n",
       "<style scoped>\n",
       "    .dataframe tbody tr th:only-of-type {\n",
       "        vertical-align: middle;\n",
       "    }\n",
       "\n",
       "    .dataframe tbody tr th {\n",
       "        vertical-align: top;\n",
       "    }\n",
       "\n",
       "    .dataframe thead th {\n",
       "        text-align: right;\n",
       "    }\n",
       "</style>\n",
       "<table border=\"1\" class=\"dataframe\">\n",
       "  <thead>\n",
       "    <tr style=\"text-align: right;\">\n",
       "      <th></th>\n",
       "      <th>log_attack_time</th>\n",
       "      <th>temporal_centroid</th>\n",
       "      <th>lat_tc_ratio</th>\n",
       "      <th>duration</th>\n",
       "      <th>release</th>\n",
       "      <th>crest_factor</th>\n",
       "      <th>log_rms_avg</th>\n",
       "      <th>log_rms_std</th>\n",
       "      <th>log_rms_min</th>\n",
       "      <th>log_rms_max</th>\n",
       "      <th>...</th>\n",
       "      <th>mfcc_10_loudest</th>\n",
       "      <th>mfcc_10_d_avg</th>\n",
       "      <th>mfcc_11_avg</th>\n",
       "      <th>mfcc_11_min</th>\n",
       "      <th>mfcc_11_max</th>\n",
       "      <th>mfcc_11_std</th>\n",
       "      <th>mfcc_11_loudest</th>\n",
       "      <th>mfcc_11_d_avg</th>\n",
       "      <th>drum_type</th>\n",
       "      <th>drum_type_labels</th>\n",
       "    </tr>\n",
       "  </thead>\n",
       "  <tbody>\n",
       "    <tr>\n",
       "      <th>0</th>\n",
       "      <td>-1.333109</td>\n",
       "      <td>0.309009</td>\n",
       "      <td>-4.314148</td>\n",
       "      <td>0.301859</td>\n",
       "      <td>0.23220</td>\n",
       "      <td>1.583860</td>\n",
       "      <td>-0.742126</td>\n",
       "      <td>0.296319</td>\n",
       "      <td>-1.509180</td>\n",
       "      <td>-0.470232</td>\n",
       "      <td>...</td>\n",
       "      <td>73.857117</td>\n",
       "      <td>3.746322</td>\n",
       "      <td>25.085449</td>\n",
       "      <td>-27.566612</td>\n",
       "      <td>71.557610</td>\n",
       "      <td>23.789410</td>\n",
       "      <td>71.557610</td>\n",
       "      <td>4.844017</td>\n",
       "      <td>kick</td>\n",
       "      <td>0</td>\n",
       "    </tr>\n",
       "    <tr>\n",
       "      <th>1</th>\n",
       "      <td>-1.935169</td>\n",
       "      <td>0.081168</td>\n",
       "      <td>-23.841563</td>\n",
       "      <td>0.162540</td>\n",
       "      <td>0.13932</td>\n",
       "      <td>1.832476</td>\n",
       "      <td>-0.942577</td>\n",
       "      <td>0.359981</td>\n",
       "      <td>-1.483876</td>\n",
       "      <td>-0.555813</td>\n",
       "      <td>...</td>\n",
       "      <td>21.382751</td>\n",
       "      <td>-4.536325</td>\n",
       "      <td>15.984200</td>\n",
       "      <td>4.583979</td>\n",
       "      <td>26.862152</td>\n",
       "      <td>7.882982</td>\n",
       "      <td>15.986156</td>\n",
       "      <td>-2.981111</td>\n",
       "      <td>kick</td>\n",
       "      <td>0</td>\n",
       "    </tr>\n",
       "    <tr>\n",
       "      <th>2</th>\n",
       "      <td>-1.333109</td>\n",
       "      <td>0.318289</td>\n",
       "      <td>-4.188365</td>\n",
       "      <td>0.301859</td>\n",
       "      <td>0.23220</td>\n",
       "      <td>1.557335</td>\n",
       "      <td>-0.711129</td>\n",
       "      <td>0.253500</td>\n",
       "      <td>-1.408140</td>\n",
       "      <td>-0.464733</td>\n",
       "      <td>...</td>\n",
       "      <td>66.590034</td>\n",
       "      <td>2.760983</td>\n",
       "      <td>28.809278</td>\n",
       "      <td>3.563507</td>\n",
       "      <td>64.836502</td>\n",
       "      <td>17.678705</td>\n",
       "      <td>64.836502</td>\n",
       "      <td>1.541621</td>\n",
       "      <td>kick</td>\n",
       "      <td>0</td>\n",
       "    </tr>\n",
       "    <tr>\n",
       "      <th>3</th>\n",
       "      <td>-1.935169</td>\n",
       "      <td>0.232761</td>\n",
       "      <td>-8.313984</td>\n",
       "      <td>0.162540</td>\n",
       "      <td>0.13932</td>\n",
       "      <td>1.657486</td>\n",
       "      <td>-0.755831</td>\n",
       "      <td>0.319554</td>\n",
       "      <td>-1.413463</td>\n",
       "      <td>-0.444711</td>\n",
       "      <td>...</td>\n",
       "      <td>55.298573</td>\n",
       "      <td>-6.422678</td>\n",
       "      <td>34.397266</td>\n",
       "      <td>7.609301</td>\n",
       "      <td>68.512512</td>\n",
       "      <td>19.782949</td>\n",
       "      <td>48.280617</td>\n",
       "      <td>-5.217404</td>\n",
       "      <td>kick</td>\n",
       "      <td>0</td>\n",
       "    </tr>\n",
       "    <tr>\n",
       "      <th>4</th>\n",
       "      <td>-1.333109</td>\n",
       "      <td>0.260443</td>\n",
       "      <td>-5.118622</td>\n",
       "      <td>0.325079</td>\n",
       "      <td>0.25542</td>\n",
       "      <td>1.624353</td>\n",
       "      <td>-0.809102</td>\n",
       "      <td>0.295946</td>\n",
       "      <td>-1.553890</td>\n",
       "      <td>-0.521550</td>\n",
       "      <td>...</td>\n",
       "      <td>47.236877</td>\n",
       "      <td>-2.967587</td>\n",
       "      <td>25.968449</td>\n",
       "      <td>3.578970</td>\n",
       "      <td>55.889328</td>\n",
       "      <td>15.413385</td>\n",
       "      <td>46.749321</td>\n",
       "      <td>-2.640321</td>\n",
       "      <td>kick</td>\n",
       "      <td>0</td>\n",
       "    </tr>\n",
       "  </tbody>\n",
       "</table>\n",
       "<p>5 rows × 121 columns</p>\n",
       "</div>"
      ],
      "text/plain": [
       "   log_attack_time  temporal_centroid  lat_tc_ratio  duration  release  \\\n",
       "0        -1.333109           0.309009     -4.314148  0.301859  0.23220   \n",
       "1        -1.935169           0.081168    -23.841563  0.162540  0.13932   \n",
       "2        -1.333109           0.318289     -4.188365  0.301859  0.23220   \n",
       "3        -1.935169           0.232761     -8.313984  0.162540  0.13932   \n",
       "4        -1.333109           0.260443     -5.118622  0.325079  0.25542   \n",
       "\n",
       "   crest_factor  log_rms_avg  log_rms_std  log_rms_min  log_rms_max  ...  \\\n",
       "0      1.583860    -0.742126     0.296319    -1.509180    -0.470232  ...   \n",
       "1      1.832476    -0.942577     0.359981    -1.483876    -0.555813  ...   \n",
       "2      1.557335    -0.711129     0.253500    -1.408140    -0.464733  ...   \n",
       "3      1.657486    -0.755831     0.319554    -1.413463    -0.444711  ...   \n",
       "4      1.624353    -0.809102     0.295946    -1.553890    -0.521550  ...   \n",
       "\n",
       "   mfcc_10_loudest  mfcc_10_d_avg  mfcc_11_avg  mfcc_11_min  mfcc_11_max  \\\n",
       "0        73.857117       3.746322    25.085449   -27.566612    71.557610   \n",
       "1        21.382751      -4.536325    15.984200     4.583979    26.862152   \n",
       "2        66.590034       2.760983    28.809278     3.563507    64.836502   \n",
       "3        55.298573      -6.422678    34.397266     7.609301    68.512512   \n",
       "4        47.236877      -2.967587    25.968449     3.578970    55.889328   \n",
       "\n",
       "   mfcc_11_std  mfcc_11_loudest  mfcc_11_d_avg  drum_type  drum_type_labels  \n",
       "0    23.789410        71.557610       4.844017       kick                 0  \n",
       "1     7.882982        15.986156      -2.981111       kick                 0  \n",
       "2    17.678705        64.836502       1.541621       kick                 0  \n",
       "3    19.782949        48.280617      -5.217404       kick                 0  \n",
       "4    15.413385        46.749321      -2.640321       kick                 0  \n",
       "\n",
       "[5 rows x 121 columns]"
      ]
     },
     "execution_count": 42,
     "metadata": {},
     "output_type": "execute_result"
    }
   ],
   "source": [
    "df.head()"
   ]
  },
  {
   "cell_type": "code",
   "execution_count": 40,
   "metadata": {},
   "outputs": [
    {
     "name": "stdout",
     "output_type": "stream",
     "text": [
      "<class 'pandas.core.frame.DataFrame'>\n",
      "Int64Index: 768 entries, 0 to 767\n",
      "Columns: 121 entries, log_attack_time to drum_type_labels\n",
      "dtypes: float64(119), int64(1), object(1)\n",
      "memory usage: 732.0+ KB\n"
     ]
    }
   ],
   "source": [
    "df.info()"
   ]
  },
  {
   "cell_type": "code",
   "execution_count": 28,
   "metadata": {},
   "outputs": [],
   "source": [
    "train_clips_df, val_clips_df = train_test_split(df, random_state=0)"
   ]
  },
  {
   "cell_type": "code",
   "execution_count": 36,
   "metadata": {},
   "outputs": [],
   "source": [
    "train_df = train_clips_df.drop(labels='drum_type_labels', axis=1)\n",
    "train_df = train_df.drop(labels='drum_type', axis=1)\n",
    "train_np = train_df.to_numpy()"
   ]
  },
  {
   "cell_type": "code",
   "execution_count": 43,
   "metadata": {},
   "outputs": [],
   "source": [
    "test_df = val_clips_df.drop(labels='drum_type_labels', axis=1)\n",
    "test_df = test_df.drop(labels='drum_type', axis=1)\n",
    "test_np = test_df.to_numpy()"
   ]
  },
  {
   "cell_type": "code",
   "execution_count": 45,
   "metadata": {},
   "outputs": [
    {
     "data": {
      "text/plain": [
       "(192, 119)"
      ]
     },
     "execution_count": 45,
     "metadata": {},
     "output_type": "execute_result"
    }
   ],
   "source": []
  },
  {
   "cell_type": "code",
   "execution_count": null,
   "metadata": {},
   "outputs": [],
   "source": []
  }
 ],
 "metadata": {
  "kernelspec": {
   "display_name": "Python 3",
   "language": "python",
   "name": "python3"
  },
  "language_info": {
   "codemirror_mode": {
    "name": "ipython",
    "version": 3
   },
   "file_extension": ".py",
   "mimetype": "text/x-python",
   "name": "python",
   "nbconvert_exporter": "python",
   "pygments_lexer": "ipython3",
   "version": "3.8.2"
  }
 },
 "nbformat": 4,
 "nbformat_minor": 1
}
